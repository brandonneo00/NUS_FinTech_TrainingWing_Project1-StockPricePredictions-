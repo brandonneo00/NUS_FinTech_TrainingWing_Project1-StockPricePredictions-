{
  "nbformat": 4,
  "nbformat_minor": 0,
  "metadata": {
    "colab": {
      "provenance": [],
      "collapsed_sections": []
    },
    "kernelspec": {
      "name": "python3",
      "display_name": "Python 3"
    },
    "language_info": {
      "name": "python"
    }
  },
  "cells": [
    {
      "cell_type": "markdown",
      "source": [
        "**Rationale for Choice of ML Model**\n",
        "\n",
        "LSTM was chosen because stock prices is a time series model. LSTM has the ability to provide greater accuracy in predicting future values baased on previous, sequential data. "
      ],
      "metadata": {
        "id": "nKNeQA8ClYcl"
      }
    },
    {
      "cell_type": "markdown",
      "source": [
        "**Importing required libaries and dependencies**"
      ],
      "metadata": {
        "id": "xnNwmd_PcVjO"
      }
    },
    {
      "cell_type": "code",
      "execution_count": 61,
      "metadata": {
        "id": "ZxQQQ3Y19zsC"
      },
      "outputs": [],
      "source": [
        "import pandas as pd\n",
        "import numpy as np\n",
        "import tensorflow as tf\n",
        "from tensorflow.keras.models import Sequential\n",
        "from tensorflow.keras.regularizers import L2\n",
        "from tensorflow.keras.layers import Dense, LSTM, Dropout, BatchNormalization\n",
        "import matplotlib.pyplot as plt\n",
        "\n",
        "from sklearn import preprocessing"
      ]
    },
    {
      "cell_type": "code",
      "source": [
        "from google.colab import drive\n",
        "drive.mount(\"/content/drive/\")"
      ],
      "metadata": {
        "colab": {
          "base_uri": "https://localhost:8080/"
        },
        "id": "DZd3v_aS-8eN",
        "outputId": "e7fbcb1a-a336-4d26-fd14-8284553bf0c7"
      },
      "execution_count": 2,
      "outputs": [
        {
          "output_type": "stream",
          "name": "stdout",
          "text": [
            "Mounted at /content/drive/\n"
          ]
        }
      ]
    },
    {
      "cell_type": "markdown",
      "source": [
        "**Importing data**"
      ],
      "metadata": {
        "id": "qmju9X_wcbZb"
      }
    },
    {
      "cell_type": "code",
      "source": [
        "path = \"/content/drive/MyDrive/Colab Notebooks/NUS_FinTech/Project1/NVDA.csv\"\n",
        "df_NVDA = pd.read_csv(path)"
      ],
      "metadata": {
        "id": "satk2qsaOjFT"
      },
      "execution_count": 3,
      "outputs": []
    },
    {
      "cell_type": "markdown",
      "source": [
        "**Because we want to forecast for the next 2 weeks, better to use data that is more recent, hence filter for dates > 2020-01-01 **"
      ],
      "metadata": {
        "id": "sanSGW-9cgKb"
      }
    },
    {
      "cell_type": "code",
      "source": [
        "df_NVDA = df_NVDA[(df_NVDA['Date'] > '2020-01-01')]\n",
        "df_NVDA"
      ],
      "metadata": {
        "colab": {
          "base_uri": "https://localhost:8080/",
          "height": 424
        },
        "id": "oJnIDJRwE0Rm",
        "outputId": "0528a479-cab8-4513-c86b-3122810bfb12"
      },
      "execution_count": 13,
      "outputs": [
        {
          "output_type": "execute_result",
          "data": {
            "text/plain": [
              "            Date        Open        High         Low       Close   Adj Close  \\\n",
              "5269  2020-01-02   59.687500   59.977501   59.180000   59.977501   59.785843   \n",
              "5270  2020-01-03   58.775002   59.457500   58.525002   59.017502   58.828907   \n",
              "5271  2020-01-06   58.080002   59.317501   57.817501   59.264999   59.075619   \n",
              "5272  2020-01-07   59.549999   60.442501   59.097500   59.982498   59.790829   \n",
              "5273  2020-01-08   59.939999   60.509998   59.537498   60.095001   59.902973   \n",
              "...          ...         ...         ...         ...         ...         ...   \n",
              "5972  2022-10-17  115.180000  119.480003  115.169998  118.879997  118.879997   \n",
              "5973  2022-10-18  123.440002  124.919998  116.180000  119.669998  119.669998   \n",
              "5974  2022-10-19  118.790001  123.500000  118.339996  120.510002  120.510002   \n",
              "5975  2022-10-20  121.129997  127.690002  121.050003  121.940002  121.940002   \n",
              "5976  2022-10-21  120.980003  124.980003  118.870003  124.660004  124.660004   \n",
              "\n",
              "        Volume  \n",
              "5269  23753600  \n",
              "5270  20538400  \n",
              "5271  26263600  \n",
              "5272  31485600  \n",
              "5273  27710800  \n",
              "...        ...  \n",
              "5972  58077400  \n",
              "5973  65936200  \n",
              "5974  52313100  \n",
              "5975  65239800  \n",
              "5976  60893800  \n",
              "\n",
              "[708 rows x 7 columns]"
            ],
            "text/html": [
              "\n",
              "  <div id=\"df-fd7c5088-ce46-406f-9eec-05bf928816c0\">\n",
              "    <div class=\"colab-df-container\">\n",
              "      <div>\n",
              "<style scoped>\n",
              "    .dataframe tbody tr th:only-of-type {\n",
              "        vertical-align: middle;\n",
              "    }\n",
              "\n",
              "    .dataframe tbody tr th {\n",
              "        vertical-align: top;\n",
              "    }\n",
              "\n",
              "    .dataframe thead th {\n",
              "        text-align: right;\n",
              "    }\n",
              "</style>\n",
              "<table border=\"1\" class=\"dataframe\">\n",
              "  <thead>\n",
              "    <tr style=\"text-align: right;\">\n",
              "      <th></th>\n",
              "      <th>Date</th>\n",
              "      <th>Open</th>\n",
              "      <th>High</th>\n",
              "      <th>Low</th>\n",
              "      <th>Close</th>\n",
              "      <th>Adj Close</th>\n",
              "      <th>Volume</th>\n",
              "    </tr>\n",
              "  </thead>\n",
              "  <tbody>\n",
              "    <tr>\n",
              "      <th>5269</th>\n",
              "      <td>2020-01-02</td>\n",
              "      <td>59.687500</td>\n",
              "      <td>59.977501</td>\n",
              "      <td>59.180000</td>\n",
              "      <td>59.977501</td>\n",
              "      <td>59.785843</td>\n",
              "      <td>23753600</td>\n",
              "    </tr>\n",
              "    <tr>\n",
              "      <th>5270</th>\n",
              "      <td>2020-01-03</td>\n",
              "      <td>58.775002</td>\n",
              "      <td>59.457500</td>\n",
              "      <td>58.525002</td>\n",
              "      <td>59.017502</td>\n",
              "      <td>58.828907</td>\n",
              "      <td>20538400</td>\n",
              "    </tr>\n",
              "    <tr>\n",
              "      <th>5271</th>\n",
              "      <td>2020-01-06</td>\n",
              "      <td>58.080002</td>\n",
              "      <td>59.317501</td>\n",
              "      <td>57.817501</td>\n",
              "      <td>59.264999</td>\n",
              "      <td>59.075619</td>\n",
              "      <td>26263600</td>\n",
              "    </tr>\n",
              "    <tr>\n",
              "      <th>5272</th>\n",
              "      <td>2020-01-07</td>\n",
              "      <td>59.549999</td>\n",
              "      <td>60.442501</td>\n",
              "      <td>59.097500</td>\n",
              "      <td>59.982498</td>\n",
              "      <td>59.790829</td>\n",
              "      <td>31485600</td>\n",
              "    </tr>\n",
              "    <tr>\n",
              "      <th>5273</th>\n",
              "      <td>2020-01-08</td>\n",
              "      <td>59.939999</td>\n",
              "      <td>60.509998</td>\n",
              "      <td>59.537498</td>\n",
              "      <td>60.095001</td>\n",
              "      <td>59.902973</td>\n",
              "      <td>27710800</td>\n",
              "    </tr>\n",
              "    <tr>\n",
              "      <th>...</th>\n",
              "      <td>...</td>\n",
              "      <td>...</td>\n",
              "      <td>...</td>\n",
              "      <td>...</td>\n",
              "      <td>...</td>\n",
              "      <td>...</td>\n",
              "      <td>...</td>\n",
              "    </tr>\n",
              "    <tr>\n",
              "      <th>5972</th>\n",
              "      <td>2022-10-17</td>\n",
              "      <td>115.180000</td>\n",
              "      <td>119.480003</td>\n",
              "      <td>115.169998</td>\n",
              "      <td>118.879997</td>\n",
              "      <td>118.879997</td>\n",
              "      <td>58077400</td>\n",
              "    </tr>\n",
              "    <tr>\n",
              "      <th>5973</th>\n",
              "      <td>2022-10-18</td>\n",
              "      <td>123.440002</td>\n",
              "      <td>124.919998</td>\n",
              "      <td>116.180000</td>\n",
              "      <td>119.669998</td>\n",
              "      <td>119.669998</td>\n",
              "      <td>65936200</td>\n",
              "    </tr>\n",
              "    <tr>\n",
              "      <th>5974</th>\n",
              "      <td>2022-10-19</td>\n",
              "      <td>118.790001</td>\n",
              "      <td>123.500000</td>\n",
              "      <td>118.339996</td>\n",
              "      <td>120.510002</td>\n",
              "      <td>120.510002</td>\n",
              "      <td>52313100</td>\n",
              "    </tr>\n",
              "    <tr>\n",
              "      <th>5975</th>\n",
              "      <td>2022-10-20</td>\n",
              "      <td>121.129997</td>\n",
              "      <td>127.690002</td>\n",
              "      <td>121.050003</td>\n",
              "      <td>121.940002</td>\n",
              "      <td>121.940002</td>\n",
              "      <td>65239800</td>\n",
              "    </tr>\n",
              "    <tr>\n",
              "      <th>5976</th>\n",
              "      <td>2022-10-21</td>\n",
              "      <td>120.980003</td>\n",
              "      <td>124.980003</td>\n",
              "      <td>118.870003</td>\n",
              "      <td>124.660004</td>\n",
              "      <td>124.660004</td>\n",
              "      <td>60893800</td>\n",
              "    </tr>\n",
              "  </tbody>\n",
              "</table>\n",
              "<p>708 rows × 7 columns</p>\n",
              "</div>\n",
              "      <button class=\"colab-df-convert\" onclick=\"convertToInteractive('df-fd7c5088-ce46-406f-9eec-05bf928816c0')\"\n",
              "              title=\"Convert this dataframe to an interactive table.\"\n",
              "              style=\"display:none;\">\n",
              "        \n",
              "  <svg xmlns=\"http://www.w3.org/2000/svg\" height=\"24px\"viewBox=\"0 0 24 24\"\n",
              "       width=\"24px\">\n",
              "    <path d=\"M0 0h24v24H0V0z\" fill=\"none\"/>\n",
              "    <path d=\"M18.56 5.44l.94 2.06.94-2.06 2.06-.94-2.06-.94-.94-2.06-.94 2.06-2.06.94zm-11 1L8.5 8.5l.94-2.06 2.06-.94-2.06-.94L8.5 2.5l-.94 2.06-2.06.94zm10 10l.94 2.06.94-2.06 2.06-.94-2.06-.94-.94-2.06-.94 2.06-2.06.94z\"/><path d=\"M17.41 7.96l-1.37-1.37c-.4-.4-.92-.59-1.43-.59-.52 0-1.04.2-1.43.59L10.3 9.45l-7.72 7.72c-.78.78-.78 2.05 0 2.83L4 21.41c.39.39.9.59 1.41.59.51 0 1.02-.2 1.41-.59l7.78-7.78 2.81-2.81c.8-.78.8-2.07 0-2.86zM5.41 20L4 18.59l7.72-7.72 1.47 1.35L5.41 20z\"/>\n",
              "  </svg>\n",
              "      </button>\n",
              "      \n",
              "  <style>\n",
              "    .colab-df-container {\n",
              "      display:flex;\n",
              "      flex-wrap:wrap;\n",
              "      gap: 12px;\n",
              "    }\n",
              "\n",
              "    .colab-df-convert {\n",
              "      background-color: #E8F0FE;\n",
              "      border: none;\n",
              "      border-radius: 50%;\n",
              "      cursor: pointer;\n",
              "      display: none;\n",
              "      fill: #1967D2;\n",
              "      height: 32px;\n",
              "      padding: 0 0 0 0;\n",
              "      width: 32px;\n",
              "    }\n",
              "\n",
              "    .colab-df-convert:hover {\n",
              "      background-color: #E2EBFA;\n",
              "      box-shadow: 0px 1px 2px rgba(60, 64, 67, 0.3), 0px 1px 3px 1px rgba(60, 64, 67, 0.15);\n",
              "      fill: #174EA6;\n",
              "    }\n",
              "\n",
              "    [theme=dark] .colab-df-convert {\n",
              "      background-color: #3B4455;\n",
              "      fill: #D2E3FC;\n",
              "    }\n",
              "\n",
              "    [theme=dark] .colab-df-convert:hover {\n",
              "      background-color: #434B5C;\n",
              "      box-shadow: 0px 1px 3px 1px rgba(0, 0, 0, 0.15);\n",
              "      filter: drop-shadow(0px 1px 2px rgba(0, 0, 0, 0.3));\n",
              "      fill: #FFFFFF;\n",
              "    }\n",
              "  </style>\n",
              "\n",
              "      <script>\n",
              "        const buttonEl =\n",
              "          document.querySelector('#df-fd7c5088-ce46-406f-9eec-05bf928816c0 button.colab-df-convert');\n",
              "        buttonEl.style.display =\n",
              "          google.colab.kernel.accessAllowed ? 'block' : 'none';\n",
              "\n",
              "        async function convertToInteractive(key) {\n",
              "          const element = document.querySelector('#df-fd7c5088-ce46-406f-9eec-05bf928816c0');\n",
              "          const dataTable =\n",
              "            await google.colab.kernel.invokeFunction('convertToInteractive',\n",
              "                                                     [key], {});\n",
              "          if (!dataTable) return;\n",
              "\n",
              "          const docLinkHtml = 'Like what you see? Visit the ' +\n",
              "            '<a target=\"_blank\" href=https://colab.research.google.com/notebooks/data_table.ipynb>data table notebook</a>'\n",
              "            + ' to learn more about interactive tables.';\n",
              "          element.innerHTML = '';\n",
              "          dataTable['output_type'] = 'display_data';\n",
              "          await google.colab.output.renderOutput(dataTable, element);\n",
              "          const docLink = document.createElement('div');\n",
              "          docLink.innerHTML = docLinkHtml;\n",
              "          element.appendChild(docLink);\n",
              "        }\n",
              "      </script>\n",
              "    </div>\n",
              "  </div>\n",
              "  "
            ]
          },
          "metadata": {},
          "execution_count": 13
        }
      ]
    },
    {
      "cell_type": "markdown",
      "source": [
        "**Data preprocessing and data manipulation**"
      ],
      "metadata": {
        "id": "eqMlfcRFE3wT"
      }
    },
    {
      "cell_type": "code",
      "source": [
        "closingPrice = df_NVDA['Close'].to_numpy()"
      ],
      "metadata": {
        "id": "Hh_F8l3UGfUz"
      },
      "execution_count": 14,
      "outputs": []
    },
    {
      "cell_type": "code",
      "source": [
        "#model requires input array to be in 3D\n",
        "features = np.array(closingPrice).reshape(-1,1)"
      ],
      "metadata": {
        "id": "zIatGRPjonhb"
      },
      "execution_count": 15,
      "outputs": []
    },
    {
      "cell_type": "code",
      "source": [
        "#Performing Min-Max scaling on dataset\n",
        "sc = preprocessing.MinMaxScaler().fit(features)\n",
        "scaled_features = sc.transform(features)"
      ],
      "metadata": {
        "id": "Aj9F90nMoAxR"
      },
      "execution_count": 17,
      "outputs": []
    },
    {
      "cell_type": "markdown",
      "source": [
        "**Data Visualization**"
      ],
      "metadata": {
        "id": "fekdrwlyt6N4"
      }
    },
    {
      "cell_type": "code",
      "source": [
        "for i in range(len(scaled_features[0])):\n",
        "  plt.plot(scaled_features[...,i], label= i)\n",
        "  plt.xlabel(\"Num days since 01/01/2020\")\n",
        "  plt.ylabel(\"Close Prices (Scaled)\")"
      ],
      "metadata": {
        "colab": {
          "base_uri": "https://localhost:8080/",
          "height": 279
        },
        "id": "AkdPeIvYXFJ-",
        "outputId": "4dbd4e4f-7f5a-47e9-9abd-a4308bfdbb24"
      },
      "execution_count": 59,
      "outputs": [
        {
          "output_type": "display_data",
          "data": {
            "text/plain": [
              "<Figure size 432x288 with 1 Axes>"
            ],
            "image/png": "[encoded data removed]"
          },
          "metadata": {
            "needs_background": "light"
          }
        }
      ]
    },
    {
      "cell_type": "code",
      "source": [
        "#Process of generating input data\n",
        "#Predictor will consist of 40 consecutive days of closing prices in order to predict closing price over a period of 10 days\n",
        "\n",
        "sampleLength = 40\n",
        "forecast_days = 10\n",
        "x = []\n",
        "y = []\n",
        "for i in range(len(closingPrice)-sampleLength-forecast_days):\n",
        "  x += [scaled_features[i:i+sampleLength]]\n",
        "  y += [closingPrice[i+sampleLength+forecast_days-1]]\n",
        "\n",
        "x = np.array(x)\n",
        "y = np.array(y)\n",
        "\n",
        "#x is the feature vector and has dimensions: (numRows, 40, 1)\n",
        "#y is the output vector and has dimensions: (numRows, 1)\n",
        "\n",
        "y = y[..., np.newaxis]"
      ],
      "metadata": {
        "id": "ygcex3QvHiFX"
      },
      "execution_count": 19,
      "outputs": []
    },
    {
      "cell_type": "markdown",
      "source": [
        "**Train-Test Split**"
      ],
      "metadata": {
        "id": "NMYA6c1Tdg0T"
      }
    },
    {
      "cell_type": "code",
      "source": [
        "#test set will be the last 50 trading days recorded\n",
        "testLength = 50\n",
        "trainLength = len(x) - testLength\n",
        "trainX, trainY, testX, testY = x[:trainLength], y[:trainLength], x[trainLength:], y[trainLength:]"
      ],
      "metadata": {
        "id": "kK9X3pdXKXg8"
      },
      "execution_count": 20,
      "outputs": []
    },
    {
      "cell_type": "markdown",
      "source": [
        "**Training the model**\n",
        "\n",
        "Model Architecture:\n",
        "Stacked LSTM (4 LSTM layers in total) with BatchNormalisation and Dropout layer after each LSTM followed by a Dense layer"
      ],
      "metadata": {
        "id": "CH2xAqa1doMi"
      }
    },
    {
      "cell_type": "code",
      "source": [
        "model = Sequential([\n",
        "    LSTM(50, input_shape=(sampleLength,features.shape[1]), return_sequences = True),\n",
        "    BatchNormalization(),\n",
        "    Dropout(0.25),\n",
        "    LSTM(50, return_sequences = True),\n",
        "    BatchNormalization(),\n",
        "    Dropout(0.25),\n",
        "    LSTM(50, return_sequences = True),\n",
        "    BatchNormalization(),\n",
        "    Dropout(0.25),\n",
        "    LSTM(50),\n",
        "    BatchNormalization(),\n",
        "    Dropout(0.25),\n",
        "    Dense(1, activation=\"linear\")\n",
        "])\n",
        "\n",
        "opt = tf.keras.optimizers.Adam(learning_rate = 0.0001)\n",
        "\n",
        "model.compile(\n",
        "    optimizer=\"adam\",\n",
        "    loss=\"mean_squared_error\",\n",
        "    metrics=[\"mse\"]\n",
        ")\n",
        "model.summary()"
      ],
      "metadata": {
        "id": "_GLM9ZZ-Xrx7",
        "colab": {
          "base_uri": "https://localhost:8080/"
        },
        "outputId": "83b35336-8cd1-4ab8-8fe0-e723f66be75e"
      },
      "execution_count": 32,
      "outputs": [
        {
          "output_type": "stream",
          "name": "stdout",
          "text": [
            "Model: \"sequential_2\"\n",
            "_________________________________________________________________\n",
            " Layer (type)                Output Shape              Param #   \n",
            "=================================================================\n",
            " lstm_7 (LSTM)               (None, 40, 50)            10400     \n",
            "                                                                 \n",
            " batch_normalization_7 (Batc  (None, 40, 50)           200       \n",
            " hNormalization)                                                 \n",
            "                                                                 \n",
            " dropout_7 (Dropout)         (None, 40, 50)            0         \n",
            "                                                                 \n",
            " lstm_8 (LSTM)               (None, 40, 50)            20200     \n",
            "                                                                 \n",
            " batch_normalization_8 (Batc  (None, 40, 50)           200       \n",
            " hNormalization)                                                 \n",
            "                                                                 \n",
            " dropout_8 (Dropout)         (None, 40, 50)            0         \n",
            "                                                                 \n",
            " lstm_9 (LSTM)               (None, 40, 50)            20200     \n",
            "                                                                 \n",
            " batch_normalization_9 (Batc  (None, 40, 50)           200       \n",
            " hNormalization)                                                 \n",
            "                                                                 \n",
            " dropout_9 (Dropout)         (None, 40, 50)            0         \n",
            "                                                                 \n",
            " lstm_10 (LSTM)              (None, 50)                20200     \n",
            "                                                                 \n",
            " batch_normalization_10 (Bat  (None, 50)               200       \n",
            " chNormalization)                                                \n",
            "                                                                 \n",
            " dropout_10 (Dropout)        (None, 50)                0         \n",
            "                                                                 \n",
            " dense_2 (Dense)             (None, 1)                 51        \n",
            "                                                                 \n",
            "=================================================================\n",
            "Total params: 71,851\n",
            "Trainable params: 71,451\n",
            "Non-trainable params: 400\n",
            "_________________________________________________________________\n"
          ]
        }
      ]
    },
    {
      "cell_type": "code",
      "source": [
        "history = model.fit(\n",
        "    trainX, \n",
        "    trainY,\n",
        "    validation_data = (testX, testY),\n",
        "    epochs = 60,\n",
        "    batch_size = 32)"
      ],
      "metadata": {
        "colab": {
          "base_uri": "https://localhost:8080/"
        },
        "id": "COXW0284Zfd2",
        "outputId": "8e873507-7cbb-45a9-9533-fa546a3e3577"
      },
      "execution_count": 33,
      "outputs": [
        {
          "output_type": "stream",
          "name": "stdout",
          "text": [
            "Epoch 1/60\n",
            "19/19 [==============================] - 9s 167ms/step - loss: 32364.2129 - mse: 32364.2129 - val_loss: 20563.6426 - val_mse: 20563.6426\n",
            "Epoch 2/60\n",
            "19/19 [==============================] - 1s 74ms/step - loss: 31923.3750 - mse: 31923.3750 - val_loss: 20492.9258 - val_mse: 20492.9258\n",
            "Epoch 3/60\n",
            "19/19 [==============================] - 1s 74ms/step - loss: 31713.0059 - mse: 31713.0059 - val_loss: 20335.1055 - val_mse: 20335.1055\n",
            "Epoch 4/60\n",
            "19/19 [==============================] - 1s 73ms/step - loss: 31486.0566 - mse: 31486.0566 - val_loss: 20126.4824 - val_mse: 20126.4824\n",
            "Epoch 5/60\n",
            "19/19 [==============================] - 1s 73ms/step - loss: 31238.0332 - mse: 31238.0332 - val_loss: 19956.1641 - val_mse: 19956.1641\n",
            "Epoch 6/60\n",
            "19/19 [==============================] - 1s 72ms/step - loss: 30985.5879 - mse: 30985.5879 - val_loss: 19860.9668 - val_mse: 19860.9668\n",
            "Epoch 7/60\n",
            "19/19 [==============================] - 1s 72ms/step - loss: 30668.9941 - mse: 30668.9941 - val_loss: 19244.0957 - val_mse: 19244.0957\n",
            "Epoch 8/60\n",
            "19/19 [==============================] - 1s 71ms/step - loss: 30384.1191 - mse: 30384.1191 - val_loss: 19135.5000 - val_mse: 19135.5000\n",
            "Epoch 9/60\n",
            "19/19 [==============================] - 1s 72ms/step - loss: 30070.1836 - mse: 30070.1836 - val_loss: 18945.3066 - val_mse: 18945.3066\n",
            "Epoch 10/60\n",
            "19/19 [==============================] - 1s 72ms/step - loss: 29692.1582 - mse: 29692.1582 - val_loss: 18281.1621 - val_mse: 18281.1621\n",
            "Epoch 11/60\n",
            "19/19 [==============================] - 1s 73ms/step - loss: 29369.6211 - mse: 29369.6211 - val_loss: 17985.8145 - val_mse: 17985.8145\n",
            "Epoch 12/60\n",
            "19/19 [==============================] - 1s 73ms/step - loss: 28995.2461 - mse: 28995.2461 - val_loss: 19599.7383 - val_mse: 19599.7383\n",
            "Epoch 13/60\n",
            "19/19 [==============================] - 1s 72ms/step - loss: 28584.7832 - mse: 28584.7832 - val_loss: 18012.6387 - val_mse: 18012.6387\n",
            "Epoch 14/60\n",
            "19/19 [==============================] - 1s 73ms/step - loss: 28157.9238 - mse: 28157.9238 - val_loss: 18671.5488 - val_mse: 18671.5488\n",
            "Epoch 15/60\n",
            "19/19 [==============================] - 1s 73ms/step - loss: 27695.5781 - mse: 27695.5781 - val_loss: 17716.0430 - val_mse: 17716.0430\n",
            "Epoch 16/60\n",
            "19/19 [==============================] - 1s 73ms/step - loss: 27258.7871 - mse: 27258.7871 - val_loss: 18599.6055 - val_mse: 18599.6055\n",
            "Epoch 17/60\n",
            "19/19 [==============================] - 1s 73ms/step - loss: 26888.5781 - mse: 26888.5781 - val_loss: 18240.1973 - val_mse: 18240.1973\n",
            "Epoch 18/60\n",
            "19/19 [==============================] - 1s 74ms/step - loss: 26381.2344 - mse: 26381.2344 - val_loss: 17294.6543 - val_mse: 17294.6543\n",
            "Epoch 19/60\n",
            "19/19 [==============================] - 1s 72ms/step - loss: 25761.8027 - mse: 25761.8027 - val_loss: 18267.3359 - val_mse: 18267.3359\n",
            "Epoch 20/60\n",
            "19/19 [==============================] - 1s 74ms/step - loss: 25375.9922 - mse: 25375.9922 - val_loss: 16005.6074 - val_mse: 16005.6074\n",
            "Epoch 21/60\n",
            "19/19 [==============================] - 1s 73ms/step - loss: 24844.2070 - mse: 24844.2070 - val_loss: 16232.0596 - val_mse: 16232.0596\n",
            "Epoch 22/60\n",
            "19/19 [==============================] - 1s 72ms/step - loss: 24260.2246 - mse: 24260.2246 - val_loss: 15353.3701 - val_mse: 15353.3701\n",
            "Epoch 23/60\n",
            "19/19 [==============================] - 1s 73ms/step - loss: 23853.3398 - mse: 23853.3398 - val_loss: 16121.6133 - val_mse: 16121.6133\n",
            "Epoch 24/60\n",
            "19/19 [==============================] - 1s 72ms/step - loss: 23412.9082 - mse: 23412.9082 - val_loss: 15996.2803 - val_mse: 15996.2803\n",
            "Epoch 25/60\n",
            "19/19 [==============================] - 1s 73ms/step - loss: 22848.4902 - mse: 22848.4902 - val_loss: 14817.6123 - val_mse: 14817.6123\n",
            "Epoch 26/60\n",
            "19/19 [==============================] - 1s 75ms/step - loss: 22286.1367 - mse: 22286.1367 - val_loss: 14948.0771 - val_mse: 14948.0771\n",
            "Epoch 27/60\n",
            "19/19 [==============================] - 1s 73ms/step - loss: 21829.7500 - mse: 21829.7500 - val_loss: 14065.6924 - val_mse: 14065.6924\n",
            "Epoch 28/60\n",
            "19/19 [==============================] - 1s 72ms/step - loss: 21401.9941 - mse: 21401.9941 - val_loss: 10888.5752 - val_mse: 10888.5752\n",
            "Epoch 29/60\n",
            "19/19 [==============================] - 1s 73ms/step - loss: 20826.7402 - mse: 20826.7402 - val_loss: 14857.1113 - val_mse: 14857.1113\n",
            "Epoch 30/60\n",
            "19/19 [==============================] - 1s 74ms/step - loss: 20205.4570 - mse: 20205.4570 - val_loss: 13231.1104 - val_mse: 13231.1104\n",
            "Epoch 31/60\n",
            "19/19 [==============================] - 1s 73ms/step - loss: 19826.2070 - mse: 19826.2070 - val_loss: 12489.7637 - val_mse: 12489.7637\n",
            "Epoch 32/60\n",
            "19/19 [==============================] - 1s 74ms/step - loss: 19243.8477 - mse: 19243.8477 - val_loss: 12009.3975 - val_mse: 12009.3975\n",
            "Epoch 33/60\n",
            "19/19 [==============================] - 1s 74ms/step - loss: 18613.8164 - mse: 18613.8164 - val_loss: 11516.2422 - val_mse: 11516.2422\n",
            "Epoch 34/60\n",
            "19/19 [==============================] - 1s 75ms/step - loss: 18071.8652 - mse: 18071.8652 - val_loss: 13609.8252 - val_mse: 13609.8252\n",
            "Epoch 35/60\n",
            "19/19 [==============================] - 1s 75ms/step - loss: 17508.1680 - mse: 17508.1680 - val_loss: 9619.9746 - val_mse: 9619.9746\n",
            "Epoch 36/60\n",
            "19/19 [==============================] - 1s 74ms/step - loss: 17096.1406 - mse: 17096.1406 - val_loss: 12522.6797 - val_mse: 12522.6797\n",
            "Epoch 37/60\n",
            "19/19 [==============================] - 1s 73ms/step - loss: 16456.3184 - mse: 16456.3184 - val_loss: 14478.6602 - val_mse: 14478.6592\n",
            "Epoch 38/60\n",
            "19/19 [==============================] - 1s 73ms/step - loss: 16215.0117 - mse: 16215.0117 - val_loss: 15738.0928 - val_mse: 15738.0928\n",
            "Epoch 39/60\n",
            "19/19 [==============================] - 1s 72ms/step - loss: 15503.0869 - mse: 15503.0869 - val_loss: 11871.7471 - val_mse: 11871.7471\n",
            "Epoch 40/60\n",
            "19/19 [==============================] - 1s 74ms/step - loss: 14834.4307 - mse: 14834.4307 - val_loss: 6973.5918 - val_mse: 6973.5918\n",
            "Epoch 41/60\n",
            "19/19 [==============================] - 1s 74ms/step - loss: 14365.6582 - mse: 14365.6582 - val_loss: 8207.2822 - val_mse: 8207.2822\n",
            "Epoch 42/60\n",
            "19/19 [==============================] - 1s 72ms/step - loss: 13779.4756 - mse: 13779.4756 - val_loss: 6357.8340 - val_mse: 6357.8340\n",
            "Epoch 43/60\n",
            "19/19 [==============================] - 1s 74ms/step - loss: 13020.9219 - mse: 13020.9219 - val_loss: 9206.2617 - val_mse: 9206.2617\n",
            "Epoch 44/60\n",
            "19/19 [==============================] - 1s 73ms/step - loss: 12811.5029 - mse: 12811.5029 - val_loss: 3849.0649 - val_mse: 3849.0649\n",
            "Epoch 45/60\n",
            "19/19 [==============================] - 1s 74ms/step - loss: 12224.4502 - mse: 12224.4502 - val_loss: 7100.4150 - val_mse: 7100.4150\n",
            "Epoch 46/60\n",
            "19/19 [==============================] - 1s 73ms/step - loss: 11604.1230 - mse: 11604.1230 - val_loss: 9887.5117 - val_mse: 9887.5117\n",
            "Epoch 47/60\n",
            "19/19 [==============================] - 1s 72ms/step - loss: 11230.7568 - mse: 11230.7568 - val_loss: 9647.9297 - val_mse: 9647.9297\n",
            "Epoch 48/60\n",
            "19/19 [==============================] - 1s 76ms/step - loss: 10593.3076 - mse: 10593.3076 - val_loss: 8977.7871 - val_mse: 8977.7871\n",
            "Epoch 49/60\n",
            "19/19 [==============================] - 1s 75ms/step - loss: 10177.1768 - mse: 10177.1768 - val_loss: 5517.1934 - val_mse: 5517.1934\n",
            "Epoch 50/60\n",
            "19/19 [==============================] - 1s 73ms/step - loss: 9507.9043 - mse: 9507.9043 - val_loss: 5082.6436 - val_mse: 5082.6436\n",
            "Epoch 51/60\n",
            "19/19 [==============================] - 1s 74ms/step - loss: 9044.6279 - mse: 9044.6279 - val_loss: 2602.9602 - val_mse: 2602.9602\n",
            "Epoch 52/60\n",
            "19/19 [==============================] - 1s 73ms/step - loss: 8821.1055 - mse: 8821.1055 - val_loss: 3114.5793 - val_mse: 3114.5793\n",
            "Epoch 53/60\n",
            "19/19 [==============================] - 1s 73ms/step - loss: 8229.3379 - mse: 8229.3379 - val_loss: 3611.8301 - val_mse: 3611.8301\n",
            "Epoch 54/60\n",
            "19/19 [==============================] - 1s 74ms/step - loss: 7794.2510 - mse: 7794.2510 - val_loss: 4514.1357 - val_mse: 4514.1357\n",
            "Epoch 55/60\n",
            "19/19 [==============================] - 1s 73ms/step - loss: 7323.2466 - mse: 7323.2466 - val_loss: 3511.4170 - val_mse: 3511.4170\n",
            "Epoch 56/60\n",
            "19/19 [==============================] - 1s 73ms/step - loss: 6970.0322 - mse: 6970.0322 - val_loss: 4568.6924 - val_mse: 4568.6924\n",
            "Epoch 57/60\n",
            "19/19 [==============================] - 1s 73ms/step - loss: 6527.0708 - mse: 6527.0708 - val_loss: 2065.9785 - val_mse: 2065.9785\n",
            "Epoch 58/60\n",
            "19/19 [==============================] - 1s 72ms/step - loss: 6263.8149 - mse: 6263.8149 - val_loss: 2857.5388 - val_mse: 2857.5388\n",
            "Epoch 59/60\n",
            "19/19 [==============================] - 1s 74ms/step - loss: 5772.0483 - mse: 5772.0483 - val_loss: 1342.7063 - val_mse: 1342.7063\n",
            "Epoch 60/60\n",
            "19/19 [==============================] - 1s 74ms/step - loss: 5529.3252 - mse: 5529.3252 - val_loss: 3228.7937 - val_mse: 3228.7937\n"
          ]
        }
      ]
    },
    {
      "cell_type": "markdown",
      "source": [
        "**Retraining model with early stopping**\n",
        "\n",
        "Use of early stopping to ensure that the weights of the model have minimum validation loss in order to prevent overfitting of the model. also identifies the epoch corresponding to the lowest validation loss"
      ],
      "metadata": {
        "id": "saTHDhorgbqY"
      }
    },
    {
      "cell_type": "code",
      "source": [
        "callbacks = [tf.keras.callbacks.EarlyStopping(patience=15, restore_best_weights = True)]"
      ],
      "metadata": {
        "id": "zOLZFE-fXK2P"
      },
      "execution_count": 28,
      "outputs": []
    },
    {
      "cell_type": "code",
      "source": [
        "history = model.fit(\n",
        "    trainX, \n",
        "    trainY,\n",
        "    validation_data = (testX, testY),\n",
        "    epochs = 200,\n",
        "    batch_size = 32,\n",
        "    callbacks = callbacks)\n",
        "\n",
        "#In total first 60 epochs without callback, subsequent 200 epochs conducted with callback"
      ],
      "metadata": {
        "colab": {
          "base_uri": "https://localhost:8080/"
        },
        "id": "mmGo4HDCgR_P",
        "outputId": "e2af9fba-9470-4fd8-969f-15a8355f332d"
      },
      "execution_count": 38,
      "outputs": [
        {
          "output_type": "stream",
          "name": "stdout",
          "text": [
            "Epoch 1/200\n",
            "19/19 [==============================] - 1s 75ms/step - loss: 5201.2417 - mse: 5201.2417 - val_loss: 2545.8191 - val_mse: 2545.8191\n",
            "Epoch 2/200\n",
            "19/19 [==============================] - 2s 102ms/step - loss: 4840.0527 - mse: 4840.0527 - val_loss: 2445.5684 - val_mse: 2445.5684\n",
            "Epoch 3/200\n",
            "19/19 [==============================] - 2s 108ms/step - loss: 4493.3330 - mse: 4493.3330 - val_loss: 2045.5625 - val_mse: 2045.5625\n",
            "Epoch 4/200\n",
            "19/19 [==============================] - 1s 73ms/step - loss: 4228.1587 - mse: 4228.1587 - val_loss: 1101.5079 - val_mse: 1101.5079\n",
            "Epoch 5/200\n",
            "19/19 [==============================] - 2s 83ms/step - loss: 4006.5613 - mse: 4006.5613 - val_loss: 3303.3853 - val_mse: 3303.3853\n",
            "Epoch 6/200\n",
            "19/19 [==============================] - 2s 84ms/step - loss: 3658.4561 - mse: 3658.4561 - val_loss: 1246.0812 - val_mse: 1246.0812\n",
            "Epoch 7/200\n",
            "19/19 [==============================] - 2s 95ms/step - loss: 3286.5815 - mse: 3286.5815 - val_loss: 1112.6641 - val_mse: 1112.6641\n",
            "Epoch 8/200\n",
            "19/19 [==============================] - 2s 95ms/step - loss: 2964.6506 - mse: 2964.6506 - val_loss: 1385.0469 - val_mse: 1385.0469\n",
            "Epoch 9/200\n",
            "19/19 [==============================] - 2s 99ms/step - loss: 2960.9993 - mse: 2960.9993 - val_loss: 973.3331 - val_mse: 973.3331\n",
            "Epoch 10/200\n",
            "19/19 [==============================] - 2s 89ms/step - loss: 2746.0266 - mse: 2746.0266 - val_loss: 1018.0480 - val_mse: 1018.0480\n",
            "Epoch 11/200\n",
            "19/19 [==============================] - 2s 103ms/step - loss: 2458.9119 - mse: 2458.9119 - val_loss: 482.7850 - val_mse: 482.7850\n",
            "Epoch 12/200\n",
            "19/19 [==============================] - 1s 73ms/step - loss: 2452.5764 - mse: 2452.5764 - val_loss: 1140.3651 - val_mse: 1140.3651\n",
            "Epoch 13/200\n",
            "19/19 [==============================] - 1s 72ms/step - loss: 2173.5222 - mse: 2173.5222 - val_loss: 862.2620 - val_mse: 862.2620\n",
            "Epoch 14/200\n",
            "19/19 [==============================] - 1s 72ms/step - loss: 2217.7026 - mse: 2217.7026 - val_loss: 585.9622 - val_mse: 585.9622\n",
            "Epoch 15/200\n",
            "19/19 [==============================] - 1s 75ms/step - loss: 1894.0797 - mse: 1894.0797 - val_loss: 421.0186 - val_mse: 421.0186\n",
            "Epoch 16/200\n",
            "19/19 [==============================] - 2s 107ms/step - loss: 1735.7299 - mse: 1735.7299 - val_loss: 429.6652 - val_mse: 429.6652\n",
            "Epoch 17/200\n",
            "19/19 [==============================] - 1s 74ms/step - loss: 1586.6844 - mse: 1586.6844 - val_loss: 386.5105 - val_mse: 386.5105\n",
            "Epoch 18/200\n",
            "19/19 [==============================] - 1s 78ms/step - loss: 1527.8135 - mse: 1527.8135 - val_loss: 424.5148 - val_mse: 424.5148\n",
            "Epoch 19/200\n",
            "19/19 [==============================] - 2s 92ms/step - loss: 1435.2771 - mse: 1435.2771 - val_loss: 419.3112 - val_mse: 419.3112\n",
            "Epoch 20/200\n",
            "19/19 [==============================] - 1s 73ms/step - loss: 1269.8566 - mse: 1269.8566 - val_loss: 406.7143 - val_mse: 406.7143\n",
            "Epoch 21/200\n",
            "19/19 [==============================] - 1s 73ms/step - loss: 1252.2552 - mse: 1252.2552 - val_loss: 315.4982 - val_mse: 315.4982\n",
            "Epoch 22/200\n",
            "19/19 [==============================] - 1s 73ms/step - loss: 1192.8285 - mse: 1192.8285 - val_loss: 532.9850 - val_mse: 532.9850\n",
            "Epoch 23/200\n",
            "19/19 [==============================] - 2s 108ms/step - loss: 1062.5066 - mse: 1062.5066 - val_loss: 443.2032 - val_mse: 443.2032\n",
            "Epoch 24/200\n",
            "19/19 [==============================] - 2s 109ms/step - loss: 1146.4846 - mse: 1146.4846 - val_loss: 250.2376 - val_mse: 250.2376\n",
            "Epoch 25/200\n",
            "19/19 [==============================] - 2s 101ms/step - loss: 921.6147 - mse: 921.6147 - val_loss: 733.8231 - val_mse: 733.8231\n",
            "Epoch 26/200\n",
            "19/19 [==============================] - 1s 72ms/step - loss: 1110.6025 - mse: 1110.6025 - val_loss: 640.2192 - val_mse: 640.2192\n",
            "Epoch 27/200\n",
            "19/19 [==============================] - 1s 73ms/step - loss: 914.9410 - mse: 914.9410 - val_loss: 840.4165 - val_mse: 840.4165\n",
            "Epoch 28/200\n",
            "19/19 [==============================] - 1s 75ms/step - loss: 969.0964 - mse: 969.0964 - val_loss: 922.1577 - val_mse: 922.1577\n",
            "Epoch 29/200\n",
            "19/19 [==============================] - 2s 104ms/step - loss: 781.3872 - mse: 781.3872 - val_loss: 859.5650 - val_mse: 859.5650\n",
            "Epoch 30/200\n",
            "19/19 [==============================] - 2s 90ms/step - loss: 672.5195 - mse: 672.5195 - val_loss: 1101.9508 - val_mse: 1101.9508\n",
            "Epoch 31/200\n",
            "19/19 [==============================] - 1s 73ms/step - loss: 743.6772 - mse: 743.6772 - val_loss: 303.5344 - val_mse: 303.5344\n",
            "Epoch 32/200\n",
            "19/19 [==============================] - 1s 73ms/step - loss: 895.8777 - mse: 895.8777 - val_loss: 877.7380 - val_mse: 877.7380\n",
            "Epoch 33/200\n",
            "19/19 [==============================] - 1s 74ms/step - loss: 676.6722 - mse: 676.6722 - val_loss: 362.8938 - val_mse: 362.8938\n",
            "Epoch 34/200\n",
            "19/19 [==============================] - 1s 73ms/step - loss: 676.7720 - mse: 676.7720 - val_loss: 1067.0693 - val_mse: 1067.0693\n",
            "Epoch 35/200\n",
            "19/19 [==============================] - 1s 74ms/step - loss: 713.1510 - mse: 713.1510 - val_loss: 862.0760 - val_mse: 862.0760\n",
            "Epoch 36/200\n",
            "19/19 [==============================] - 1s 76ms/step - loss: 854.7489 - mse: 854.7489 - val_loss: 1048.4806 - val_mse: 1048.4806\n",
            "Epoch 37/200\n",
            "19/19 [==============================] - 1s 73ms/step - loss: 545.6564 - mse: 545.6564 - val_loss: 922.2371 - val_mse: 922.2371\n",
            "Epoch 38/200\n",
            "19/19 [==============================] - 1s 74ms/step - loss: 595.2244 - mse: 595.2244 - val_loss: 1392.2041 - val_mse: 1392.2041\n",
            "Epoch 39/200\n",
            "19/19 [==============================] - 1s 74ms/step - loss: 638.8384 - mse: 638.8384 - val_loss: 1375.8918 - val_mse: 1375.8918\n"
          ]
        }
      ]
    },
    {
      "cell_type": "markdown",
      "source": [
        "**Assessing the performance of the model, MSE was used as the evaluation metric.**"
      ],
      "metadata": {
        "id": "VDo2YVcyeJ8V"
      }
    },
    {
      "cell_type": "code",
      "source": [
        "plt.plot(history.history['val_mse'], label = 'Validation Loss')\n",
        "plt.plot(history.history['mse'], label = 'Loss')\n",
        "plt.legend(loc=\"upper left\")"
      ],
      "metadata": {
        "id": "ame9kZawdJae",
        "colab": {
          "base_uri": "https://localhost:8080/",
          "height": 282
        },
        "outputId": "d8831e3d-9441-4c92-b270-1cbb9f7538cd"
      },
      "execution_count": 39,
      "outputs": [
        {
          "output_type": "execute_result",
          "data": {
            "text/plain": [
              "<matplotlib.legend.Legend at 0x7f47d3d26d50>"
            ]
          },
          "metadata": {},
          "execution_count": 39
        },
        {
          "output_type": "display_data",
          "data": {
            "text/plain": [
              "<Figure size 432x288 with 1 Axes>"
            ],
            "image/png": "[encoded data removed]"
          },
          "metadata": {
            "needs_background": "light"
          }
        }
      ]
    },
    {
      "cell_type": "markdown",
      "source": [
        "**Data Visualisation of Predicted Closing Price versus Actual Closing Price for model trained on training data**"
      ],
      "metadata": {
        "id": "Pgq_zeF0wvr0"
      }
    },
    {
      "cell_type": "code",
      "source": [
        "predicted = model.predict(trainX)\n",
        "plt.plot(predicted, label = 'Predicted')\n",
        "plt.plot(trainY, label = 'Actual')\n",
        "plt.legend(loc=\"upper left\")"
      ],
      "metadata": {
        "colab": {
          "base_uri": "https://localhost:8080/",
          "height": 300
        },
        "id": "OuGKIj2sSQw5",
        "outputId": "0dd92d60-3a65-45a9-9577-5ffc474d43c9"
      },
      "execution_count": 40,
      "outputs": [
        {
          "output_type": "stream",
          "name": "stdout",
          "text": [
            "19/19 [==============================] - 0s 23ms/step\n"
          ]
        },
        {
          "output_type": "execute_result",
          "data": {
            "text/plain": [
              "<matplotlib.legend.Legend at 0x7f47d3d1ded0>"
            ]
          },
          "metadata": {},
          "execution_count": 40
        },
        {
          "output_type": "display_data",
          "data": {
            "text/plain": [
              "<Figure size 432x288 with 1 Axes>"
            ],
            "image/png": "[encoded data removed]"
          },
          "metadata": {
            "needs_background": "light"
          }
        }
      ]
    },
    {
      "cell_type": "markdown",
      "source": [
        "**Data Visualisation of Predicted Closing Price and Actual Closing Price for model trained on testing data**"
      ],
      "metadata": {
        "id": "VEmd9ZFbw7hO"
      }
    },
    {
      "cell_type": "code",
      "source": [
        "predicted = model.predict(testX)\n",
        "plt.plot(predicted, label = 'Predicted')\n",
        "plt.plot(testY, label = 'Actual')\n",
        "plt.legend(loc=\"upper left\")"
      ],
      "metadata": {
        "colab": {
          "base_uri": "https://localhost:8080/",
          "height": 300
        },
        "id": "PgdUGNdHyvFh",
        "outputId": "2c26301e-dcee-46de-c430-f7291a4e67ad"
      },
      "execution_count": 41,
      "outputs": [
        {
          "output_type": "stream",
          "name": "stdout",
          "text": [
            "2/2 [==============================] - 2s 21ms/step\n"
          ]
        },
        {
          "output_type": "execute_result",
          "data": {
            "text/plain": [
              "<matplotlib.legend.Legend at 0x7f47d3bffa90>"
            ]
          },
          "metadata": {},
          "execution_count": 41
        },
        {
          "output_type": "display_data",
          "data": {
            "text/plain": [
              "<Figure size 432x288 with 1 Axes>"
            ],
            "image/png": "[encoded data removed]"
          },
          "metadata": {
            "needs_background": "light"
          }
        }
      ]
    },
    {
      "cell_type": "code",
      "source": [
        "model.save(\"/content/drive/MyDrive/Fintech Proj 1\")"
      ],
      "metadata": {
        "colab": {
          "base_uri": "https://localhost:8080/"
        },
        "id": "H27DIqD86xq8",
        "outputId": "903b3947-1283-4963-99fd-814b0e38a31a"
      },
      "execution_count": 60,
      "outputs": [
        {
          "output_type": "stream",
          "name": "stderr",
          "text": [
            "WARNING:absl:Found untraced functions such as lstm_cell_7_layer_call_fn, lstm_cell_7_layer_call_and_return_conditional_losses, lstm_cell_8_layer_call_fn, lstm_cell_8_layer_call_and_return_conditional_losses, lstm_cell_9_layer_call_fn while saving (showing 5 of 8). These functions will not be directly callable after loading.\n"
          ]
        }
      ]
    },
    {
      "cell_type": "markdown",
      "source": [
        "**Model Prediction of Closing Price for next 10 trading days (24 October 2022 - 4 November 2022)**"
      ],
      "metadata": {
        "id": "xZR2yLr8xHei"
      }
    },
    {
      "cell_type": "code",
      "source": [
        "forecast_input = []\n",
        "for i in range(10):\n",
        "  forecast_input += [scaled_features[-sampleLength-i-1:-i-1]]\n",
        "\n",
        "forecast_input = np.array(forecast_input)\n",
        "forecast_input = forecast_input[::-1]"
      ],
      "metadata": {
        "id": "KkcFatcW7H7Z"
      },
      "execution_count": 54,
      "outputs": []
    },
    {
      "cell_type": "code",
      "source": [
        "output_prediction = model.predict(forecast_input)\n",
        "output_prediction"
      ],
      "metadata": {
        "id": "X8fLMRvy72nG",
        "colab": {
          "base_uri": "https://localhost:8080/"
        },
        "outputId": "764896ce-3021-4d00-b01e-7a97e35e5946"
      },
      "execution_count": 55,
      "outputs": [
        {
          "output_type": "stream",
          "name": "stdout",
          "text": [
            "1/1 [==============================] - 0s 29ms/step\n"
          ]
        },
        {
          "output_type": "execute_result",
          "data": {
            "text/plain": [
              "array([[128.76231 ],\n",
              "       [127.82897 ],\n",
              "       [126.08418 ],\n",
              "       [124.04498 ],\n",
              "       [122.51426 ],\n",
              "       [120.622   ],\n",
              "       [119.1206  ],\n",
              "       [117.758316],\n",
              "       [116.098564],\n",
              "       [113.75536 ]], dtype=float32)"
            ]
          },
          "metadata": {},
          "execution_count": 55
        }
      ]
    },
    {
      "cell_type": "code",
      "source": [
        "pd.DataFrame(output_prediction).to_csv(\"BrandonNeoBingJie_Impl_1.csv\")"
      ],
      "metadata": {
        "id": "ys03xF2Ij3oh"
      },
      "execution_count": 57,
      "outputs": []
    }
  ]
}